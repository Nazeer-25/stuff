{
 "cells": [
  {
   "cell_type": "markdown",
   "id": "2605c85d",
   "metadata": {},
   "source": [
    "# conditional statements"
   ]
  },
  {
   "cell_type": "code",
   "execution_count": 4,
   "id": "6db5f144",
   "metadata": {},
   "outputs": [
    {
     "name": "stdout",
     "output_type": "stream",
     "text": [
      "3\n"
     ]
    }
   ],
   "source": [
    "#find the given number is even or odd\n",
    "n=int(input())\n",
    "if n%2==0:\n",
    "    print(n,\"is even\")"
   ]
  },
  {
   "cell_type": "code",
   "execution_count": 8,
   "id": "900bfe5e",
   "metadata": {},
   "outputs": [
    {
     "name": "stdout",
     "output_type": "stream",
     "text": [
      "16\n",
      "16 is even\n"
     ]
    }
   ],
   "source": [
    "n=int(input())\n",
    "if n%2!=0:\n",
    "    print(n,\"is odd\")\n",
    "else:\n",
    "    print(n,\"is even\")"
   ]
  },
  {
   "cell_type": "code",
   "execution_count": 11,
   "id": "319cd42f",
   "metadata": {},
   "outputs": [
    {
     "name": "stdout",
     "output_type": "stream",
     "text": [
      "22\n",
      "22 is not divisible by 5\n"
     ]
    }
   ],
   "source": [
    "n=int(input())\n",
    "if n%5==0:\n",
    "    print(n,\"It is divisible by 5\")\n",
    "else:\n",
    "    print(n,\"is not divisible by 5\")"
   ]
  },
  {
   "cell_type": "code",
   "execution_count": 14,
   "id": "d3004675",
   "metadata": {},
   "outputs": [
    {
     "name": "stdout",
     "output_type": "stream",
     "text": [
      "9 is smaller\n"
     ]
    }
   ],
   "source": [
    "x,y,z=23,12,9\n",
    "if x<=y and x<=z:\n",
    "    print(x,\"is smaller\")\n",
    "elif z>=y and y<=z:\n",
    "    print(y,\"is smaller\")\n",
    "else:\n",
    "    print(z,\"is smaller\")"
   ]
  },
  {
   "cell_type": "code",
   "execution_count": 16,
   "id": "6607b984",
   "metadata": {},
   "outputs": [
    {
     "name": "stdout",
     "output_type": "stream",
     "text": [
      "Nazeer\n",
      "yes it is my name\n"
     ]
    }
   ],
   "source": [
    "n1=input()\n",
    "if 'N' in n1:\n",
    "    if n1 == \"Nazeer\":\n",
    "        print(\"yes it is my name\")\n",
    "    else:\n",
    "        print(\"No it is not my name\")\n",
    "else:\n",
    "        print(\"close the program\")"
   ]
  },
  {
   "cell_type": "markdown",
   "id": "c30e5d43",
   "metadata": {},
   "source": [
    "- iterators\n",
    "\n",
    "- for loop\n",
    "- while loop"
   ]
  },
  {
   "cell_type": "code",
   "execution_count": null,
   "id": "5c75feb1",
   "metadata": {},
   "outputs": [],
   "source": [
    "Syntax:\n",
    "- for var in range(inclusive range,exclusive range):\n",
    "- for var in Datastructure:\n",
    "    statements"
   ]
  },
  {
   "cell_type": "code",
   "execution_count": 19,
   "id": "7e59c768",
   "metadata": {},
   "outputs": [
    {
     "name": "stdout",
     "output_type": "stream",
     "text": [
      "0 1 2 3 4 5 6 7 8 9 10 11 12 13 14 15 16 17 18 19 "
     ]
    }
   ],
   "source": [
    "for i in range(20):\n",
    "    print(i,end=\" \")"
   ]
  },
  {
   "cell_type": "code",
   "execution_count": 22,
   "id": "a1f50f30",
   "metadata": {},
   "outputs": [
    {
     "name": "stdout",
     "output_type": "stream",
     "text": [
      "2 4 6 8 10 12 14 16 18 20 "
     ]
    }
   ],
   "source": [
    "for i in range(1,21):\n",
    "    if i%2==0:\n",
    "        print(i,end=\" \")"
   ]
  },
  {
   "cell_type": "code",
   "execution_count": 23,
   "id": "7d92411c",
   "metadata": {},
   "outputs": [
    {
     "name": "stdout",
     "output_type": "stream",
     "text": [
      "0 3 6 9 12 15 18 "
     ]
    }
   ],
   "source": [
    "for i in range(0,21,3):\n",
    "    print (i,end=\" \")"
   ]
  },
  {
   "cell_type": "code",
   "execution_count": 25,
   "id": "f28efaca",
   "metadata": {},
   "outputs": [
    {
     "name": "stdout",
     "output_type": "stream",
     "text": [
      "20 19 18 17 16 15 14 13 12 11 10 9 8 7 6 5 4 3 2 1 "
     ]
    }
   ],
   "source": [
    "for i in range(20,0,-1):\n",
    "    print(i,end=\" \")"
   ]
  },
  {
   "cell_type": "code",
   "execution_count": null,
   "id": "f0e38cae",
   "metadata": {},
   "outputs": [],
   "source": []
  },
  {
   "cell_type": "code",
   "execution_count": 31,
   "id": "31c1adb1",
   "metadata": {},
   "outputs": [
    {
     "name": "stdout",
     "output_type": "stream",
     "text": [
      "p\n",
      "p\n"
     ]
    }
   ],
   "source": [
    "for k in \"i am Happy\":\n",
    "    if k==\"p\":\n",
    "        print(k)"
   ]
  },
  {
   "cell_type": "code",
   "execution_count": 9,
   "id": "3603d073",
   "metadata": {},
   "outputs": [
    {
     "name": "stdout",
     "output_type": "stream",
     "text": [
      "1 2 3 4 5 6 7 8 9 10 "
     ]
    }
   ],
   "source": [
    "n=1\n",
    "while n<=10:\n",
    "    print(n,end=\" \")\n",
    "    n+=1"
   ]
  },
  {
   "cell_type": "code",
   "execution_count": 19,
   "id": "b65ba149",
   "metadata": {},
   "outputs": [
    {
     "name": "stdout",
     "output_type": "stream",
     "text": [
      "10 9 8 7 6 5 4 3 2 1 "
     ]
    }
   ],
   "source": [
    "n=10\n",
    "while n>=1:\n",
    "    print(n,end=\" \")\n",
    "    n-=1"
   ]
  },
  {
   "cell_type": "code",
   "execution_count": 1,
   "id": "67c6e465",
   "metadata": {},
   "outputs": [
    {
     "name": "stdout",
     "output_type": "stream",
     "text": [
      "2 4 6 8 10 12 14 16 18 20 22 24 26 28 30 32 34 36 38 40 42 44 46 48 50 52 54 56 58 60 62 64 66 68 70 72 74 76 78 80 82 84 86 88 90 92 94 96 98 100 102 104 106 108 110 112 114 116 118 120 122 124 126 128 130 132 134 136 138 140 142 144 146 148 150 152 154 156 158 160 162 164 166 168 170 172 174 176 178 180 182 184 186 188 190 192 194 196 198 200 "
     ]
    }
   ],
   "source": [
    "n=1\n",
    "while n<=200:\n",
    "    if n%2==0:\n",
    "        print(n,end=\" \")\n",
    "    n+=1"
   ]
  },
  {
   "cell_type": "code",
   "execution_count": 5,
   "id": "d9d5d7c2",
   "metadata": {},
   "outputs": [
    {
     "name": "stdout",
     "output_type": "stream",
     "text": [
      "12\n",
      "12 11 10 9 8 7 6 5 4 3 2 1 "
     ]
    }
   ],
   "source": [
    "n=int(input())\n",
    "while n!=0:\n",
    "    if n==0:\n",
    "        break\n",
    "    print(n,end=\" \")\n",
    "    n-=1"
   ]
  },
  {
   "cell_type": "code",
   "execution_count": null,
   "id": "e5f72146",
   "metadata": {},
   "outputs": [],
   "source": [
    "n1=int(input(\"Ënter from year :\"))\n",
    "n2=int(input(\"Ënter to year :\"))\n",
    "for i in range(n1,):\n",
    "    if (n1%4==0 and n1%100!=0) or (n1%400==0):\n",
    "        print(n1,\"is a leap year\")\n",
    "    else:\n",
    "        print(n1,\"is not a leap year\")\n",
    "        "
   ]
  },
  {
   "cell_type": "markdown",
   "id": "78b761b3",
   "metadata": {},
   "source": [
    "# write a program to check the given number is\n",
    "# prime number or not a prime"
   ]
  },
  {
   "cell_type": "code",
   "execution_count": 11,
   "id": "053fca12",
   "metadata": {},
   "outputs": [
    {
     "name": "stdout",
     "output_type": "stream",
     "text": [
      "Enter a number :321\n",
      "321 is not a prime number\n"
     ]
    }
   ],
   "source": [
    "n=int(input(\"Enter a number :\"))\n",
    "count=0\n",
    "for i in range(1,n):\n",
    "    if n%i==0:\n",
    "        count+=1\n",
    "if count==1:\n",
    "    print(n,\"is prime number\")\n",
    "else:\n",
    "    print(n,\"is not a prime number\")"
   ]
  },
  {
   "cell_type": "code",
   "execution_count": null,
   "id": "93cc9111",
   "metadata": {},
   "outputs": [],
   "source": [
    "# function\n",
    "# syntax: def Functionname(a,b):\n",
    "#            statement1\n",
    "#            statement2\n",
    "#                .\n",
    "#                .\n",
    "#            statementn\n",
    "#            return output\n",
    "# func calling: functionname(value1,value2)"
   ]
  },
  {
   "cell_type": "code",
   "execution_count": 6,
   "id": "9086d218",
   "metadata": {},
   "outputs": [],
   "source": [
    "def greet(name):\n",
    "    \"\"\"\n",
    "    This function greets to the \n",
    "    person passed in as a parameter\n",
    "    \"\"\"\n",
    "    print(\"Hello\",name,\"Good morning\")"
   ]
  },
  {
   "cell_type": "code",
   "execution_count": 7,
   "id": "f37787aa",
   "metadata": {},
   "outputs": [
    {
     "name": "stdout",
     "output_type": "stream",
     "text": [
      "\n",
      "    This function greets to the \n",
      "    person passed in as a parameter\n",
      "    \n",
      "Hello Nazeer Good morning\n"
     ]
    }
   ],
   "source": [
    "print(greet.__doc__)\n",
    "greet(\"Nazeer\")"
   ]
  },
  {
   "cell_type": "code",
   "execution_count": 10,
   "id": "1b6fc952",
   "metadata": {},
   "outputs": [
    {
     "name": "stdout",
     "output_type": "stream",
     "text": [
      "11\n",
      "11 is a prime number\n"
     ]
    }
   ],
   "source": [
    "def isprime(n):\n",
    "    count=0\n",
    "    for i in range(1,n):\n",
    "        if n%i==0:\n",
    "            count+=1\n",
    "    if count==1:\n",
    "        print(n,\"is a prime number\")\n",
    "    else:\n",
    "        print(n,\"is not a prime number\")\n",
    "n1=int(input())\n",
    "isprime(n1)"
   ]
  },
  {
   "cell_type": "code",
   "execution_count": null,
   "id": "d745e691",
   "metadata": {},
   "outputs": [],
   "source": []
  }
 ],
 "metadata": {
  "kernelspec": {
   "display_name": "Python 3 (ipykernel)",
   "language": "python",
   "name": "python3"
  },
  "language_info": {
   "codemirror_mode": {
    "name": "ipython",
    "version": 3
   },
   "file_extension": ".py",
   "mimetype": "text/x-python",
   "name": "python",
   "nbconvert_exporter": "python",
   "pygments_lexer": "ipython3",
   "version": "3.9.12"
  }
 },
 "nbformat": 4,
 "nbformat_minor": 5
}
